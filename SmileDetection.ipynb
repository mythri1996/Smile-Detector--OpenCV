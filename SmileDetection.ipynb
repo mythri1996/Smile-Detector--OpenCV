{
 "cells": [
  {
   "cell_type": "code",
   "execution_count": 137,
   "id": "eleven-default",
   "metadata": {},
   "outputs": [],
   "source": [
    "import cv2"
   ]
  },
  {
   "cell_type": "code",
   "execution_count": 169,
   "id": "forbidden-accused",
   "metadata": {},
   "outputs": [],
   "source": [
    "face_classifier= cv2.CascadeClassifier(\"haarcascade_frontalface_default.xml\")\n",
    "smile_classifier=cv2.CascadeClassifier(\"haarcascade_smile.xml\")"
   ]
  },
  {
   "cell_type": "code",
   "execution_count": 250,
   "id": "structural-skill",
   "metadata": {},
   "outputs": [],
   "source": [
    "def detect_smile(frame):\n",
    "    gray = cv2.cvtColor(frame, code=cv2.COLOR_BGR2GRAY)\n",
    "    face = face_classifier.detectMultiScale(image=gray, scaleFactor=1.1, minNeighbors=11)\n",
    "    for (x, y, w, h) in face:\n",
    "        cv2.rectangle(img=frame, pt1=(x, y), pt2=(x + w, y + h), color=(0, 255, 10), thickness=3)\n",
    "        roi_frame = frame[y:y + h, x:x + w]\n",
    "        roi_gray =  gray[y:y + h, x:x + w]\n",
    "        smile = smile_classifier.detectMultiScale(image=roi_gray, scaleFactor=1.2, minNeighbors=30)\n",
    "        for (sx, sy, sw, sh) in smile:\n",
    "            cv2.rectangle(img=roi_frame, pt1=(sx, sy), pt2=(sx + sw, sy + sh), color=(255, 0, 0), thickness=3)\n",
    "    return frame\n",
    "\n"
   ]
  },
  {
   "cell_type": "code",
   "execution_count": 252,
   "id": "pharmaceutical-processing",
   "metadata": {},
   "outputs": [],
   "source": [
    "image=cv2.imread(\"images.jpg\")\n"
   ]
  },
  {
   "cell_type": "code",
   "execution_count": 253,
   "id": "democratic-decline",
   "metadata": {},
   "outputs": [
    {
     "data": {
      "text/plain": [
       "(185, 272, 3)"
      ]
     },
     "execution_count": 253,
     "metadata": {},
     "output_type": "execute_result"
    }
   ],
   "source": [
    "image.shape"
   ]
  },
  {
   "cell_type": "code",
   "execution_count": 254,
   "id": "extreme-rotation",
   "metadata": {},
   "outputs": [],
   "source": [
    "cv2.imshow('image',image)\n",
    "cv2.waitKey(0)\n",
    "cv2.destroyAllWindows()"
   ]
  },
  {
   "cell_type": "code",
   "execution_count": 255,
   "id": "surrounded-conclusion",
   "metadata": {},
   "outputs": [],
   "source": [
    "image_g=cv2.cvtColor(image,cv2.COLOR_BGR2GRAY)"
   ]
  },
  {
   "cell_type": "code",
   "execution_count": 256,
   "id": "chubby-flavor",
   "metadata": {},
   "outputs": [],
   "source": [
    "cv2.imshow('image',image_g)\n",
    "cv2.waitKey(0)\n",
    "cv2.destroyAllWindows()"
   ]
  },
  {
   "cell_type": "code",
   "execution_count": 257,
   "id": "flying-reverse",
   "metadata": {},
   "outputs": [],
   "source": [
    "faces_clas=detect_smile(image)"
   ]
  },
  {
   "cell_type": "code",
   "execution_count": 258,
   "id": "extraordinary-astronomy",
   "metadata": {},
   "outputs": [],
   "source": [
    "cv2.imshow('image',faces_clas)\n",
    "cv2.waitKey(10000)\n",
    "cv2.destroyAllWindows()"
   ]
  },
  {
   "cell_type": "code",
   "execution_count": 260,
   "id": "ranging-shareware",
   "metadata": {},
   "outputs": [],
   "source": [
    "video_capture = cv2.VideoCapture('video.mp4')\n",
    "while(True):\n",
    "    _,frame = video_capture.read()\n",
    "    gray = cv2.cvtColor(frame,cv2.COLOR_BGR2GRAY)# converting to gray\n",
    "    detect_eye = detect_smile(frame)\n",
    "    cv2.imshow('video',detect_eye)\n",
    "    if cv2.waitKey(1)  == ord('q'):\n",
    "        break\n",
    "video_capture.release()\n",
    "cv2.destroyAllWindows()"
   ]
  }
 ],
 "metadata": {
  "kernelspec": {
   "display_name": "Python 3",
   "language": "python",
   "name": "python3"
  },
  "language_info": {
   "codemirror_mode": {
    "name": "ipython",
    "version": 3
   },
   "file_extension": ".py",
   "mimetype": "text/x-python",
   "name": "python",
   "nbconvert_exporter": "python",
   "pygments_lexer": "ipython3",
   "version": "3.7.9"
  }
 },
 "nbformat": 4,
 "nbformat_minor": 5
}
